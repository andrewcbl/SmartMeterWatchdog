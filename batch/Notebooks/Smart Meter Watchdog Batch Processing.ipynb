{
 "cells": [
  {
   "cell_type": "markdown",
   "metadata": {},
   "source": [
    "# Batch processing with Spark and Cassandra"
   ]
  },
  {
   "cell_type": "markdown",
   "metadata": {},
   "source": [
    "## Import Spark Libraries"
   ]
  },
  {
   "cell_type": "code",
   "execution_count": 1,
   "metadata": {
    "collapsed": true
   },
   "outputs": [],
   "source": [
    "from pyspark import SparkContext\n",
    "from pyspark import SparkConf\n",
    "from pyspark import StorageLevel\n",
    "from pyspark.sql import SQLContext, Row\n",
    "from pyspark.sql.types import *"
   ]
  },
  {
   "cell_type": "markdown",
   "metadata": {},
   "source": [
    "## Connect to Cassandra and HDFS"
   ]
  },
  {
   "cell_type": "code",
   "execution_count": 2,
   "metadata": {
    "collapsed": false
   },
   "outputs": [],
   "source": [
    "from cassandra.cluster import Cluster\n",
    "cluster = Cluster()\n",
    "\n",
    "ec2_host = \"ec2-52-35-74-206.us-west-2.compute.amazonaws.com:9000/\"\n",
    "hdfs_dir = \"camus/topics/smw_low_freq2/hourly/2016/01/21/00\"\n",
    "\n",
    "conf = SparkConf().setAppName(\"Smart Meter Watchdog\")\n",
    "sc = SparkContext(conf=conf)\n",
    "sqlContext = SQLContext(sc)\n",
    "df = sqlContext.read.json(\"hdfs://\" + ec2_host + hdfs_dir)"
   ]
  },
  {
   "cell_type": "markdown",
   "metadata": {},
   "source": [
    "## Take some samples to make sure it works!"
   ]
  },
  {
   "cell_type": "code",
   "execution_count": 3,
   "metadata": {
    "collapsed": false
   },
   "outputs": [
    {
     "name": "stdout",
     "output_type": "stream",
     "text": [
      "[Row(houseId=622, label=u'electric_heat', meterId=12, power=u'0.00', timestamp=u'1303100654', zip=u'61562'), Row(houseId=9063, label=u'lighting', meterId=23, power=u'67.50', timestamp=u'1303100651', zip=u'45688'), Row(houseId=6766, label=u'outlets_unknown', meterId=10, power=u'0.00', timestamp=u'1306006763', zip=u'83539')]\n"
     ]
    }
   ],
   "source": [
    "print df.take(3)"
   ]
  },
  {
   "cell_type": "code",
   "execution_count": 4,
   "metadata": {
    "collapsed": false
   },
   "outputs": [
    {
     "name": "stdout",
     "output_type": "stream",
     "text": [
      "root\n",
      " |-- houseId: long (nullable = true)\n",
      " |-- label: string (nullable = true)\n",
      " |-- meterId: long (nullable = true)\n",
      " |-- power: string (nullable = true)\n",
      " |-- timestamp: string (nullable = true)\n",
      " |-- zip: string (nullable = true)\n",
      "\n"
     ]
    }
   ],
   "source": [
    "df.printSchema()"
   ]
  },
  {
   "cell_type": "code",
   "execution_count": 5,
   "metadata": {
    "collapsed": false
   },
   "outputs": [
    {
     "data": {
      "text/plain": [
       "'05/21/11'"
      ]
     },
     "execution_count": 5,
     "metadata": {},
     "output_type": "execute_result"
    }
   ],
   "source": [
    "import time\n",
    "time.strftime(\"%D\", time.localtime(int(\"1306006763\")))"
   ]
  },
  {
   "cell_type": "code",
   "execution_count": 6,
   "metadata": {
    "collapsed": false
   },
   "outputs": [
    {
     "data": {
      "text/plain": [
       "'05/21/11'"
      ]
     },
     "execution_count": 6,
     "metadata": {},
     "output_type": "execute_result"
    }
   ],
   "source": [
    "import time\n",
    "\n",
    "def ts2date(curTime):\n",
    "    return time.strftime(\"%D\", time.localtime(int(curTime)))\n",
    "\n",
    "ts2date('1306006763')"
   ]
  },
  {
   "cell_type": "markdown",
   "metadata": {},
   "source": [
    "### Add one more column and convert timestamp to date"
   ]
  },
  {
   "cell_type": "code",
   "execution_count": 7,
   "metadata": {
    "collapsed": false
   },
   "outputs": [],
   "source": [
    "df_date = SQLContext.createDataFrame(sqlContext, df.map(lambda row: Row(**dict(row.asDict(), date=ts2date(row.timestamp)))))"
   ]
  },
  {
   "cell_type": "code",
   "execution_count": 8,
   "metadata": {
    "collapsed": false
   },
   "outputs": [
    {
     "data": {
      "text/plain": [
       "[Row(date=u'04/18/11', houseId=622, label=u'electric_heat', meterId=12, power=u'0.00', timestamp=u'1303100654', zip=u'61562')]"
      ]
     },
     "execution_count": 8,
     "metadata": {},
     "output_type": "execute_result"
    }
   ],
   "source": [
    "df_date.take(1)"
   ]
  },
  {
   "cell_type": "code",
   "execution_count": 9,
   "metadata": {
    "collapsed": false
   },
   "outputs": [
    {
     "name": "stdout",
     "output_type": "stream",
     "text": [
      "<class 'pyspark.sql.dataframe.DataFrame'>\n",
      "<class 'pyspark.sql.dataframe.DataFrame'>\n"
     ]
    }
   ],
   "source": [
    "print type(df_date)\n",
    "print type(df)"
   ]
  },
  {
   "cell_type": "code",
   "execution_count": 10,
   "metadata": {
    "collapsed": false
   },
   "outputs": [],
   "source": [
    "df_house_power = df_date.select(df_date['houseId'], df_date['date'], df_date['zip'], df_date['power'])"
   ]
  },
  {
   "cell_type": "code",
   "execution_count": 11,
   "metadata": {
    "collapsed": false
   },
   "outputs": [
    {
     "data": {
      "text/plain": [
       "[Row(houseId=622, date=u'04/18/11', zip=u'61562', power=u'0.00')]"
      ]
     },
     "execution_count": 11,
     "metadata": {},
     "output_type": "execute_result"
    }
   ],
   "source": [
    "df_house_power.take(1)"
   ]
  },
  {
   "cell_type": "code",
   "execution_count": 12,
   "metadata": {
    "collapsed": false
   },
   "outputs": [],
   "source": [
    "df_house_power_aggr = df_house_power.map(lambda x: ((x.houseId, x.date, x.zip), x.power)).reduceByKey(lambda x, y: float(x)+float(y))"
   ]
  },
  {
   "cell_type": "code",
   "execution_count": 13,
   "metadata": {
    "collapsed": false
   },
   "outputs": [
    {
     "data": {
      "text/plain": [
       "[((4024, u'04/16/11', u'22731'), 13820.779999999999)]"
      ]
     },
     "execution_count": 13,
     "metadata": {},
     "output_type": "execute_result"
    }
   ],
   "source": [
    "df_house_power_aggr.take(1)"
   ]
  },
  {
   "cell_type": "code",
   "execution_count": 14,
   "metadata": {
    "collapsed": false
   },
   "outputs": [
    {
     "data": {
      "text/plain": [
       "[((4024, u'04/16/11', u'22731'), 13820.779999999999),\n",
       " ((4993, u'04/16/11', u'67905'), 12132.66),\n",
       " ((5524, u'04/18/11', u'04474'), 7736.469999999999),\n",
       " ((196, u'04/18/11', u'56397'), 4399.08),\n",
       " ((605, u'04/16/11', u'28649'), 13230.08),\n",
       " ((2452, u'05/21/11', u'46939'), u'3.00'),\n",
       " ((2149, u'04/17/11', u'74901'), u'15.00'),\n",
       " ((8386, u'05/21/11', u'06071'), u'108.00'),\n",
       " ((7250, u'04/18/11', u'26060'), u'1.00'),\n",
       " ((1561, u'05/21/11', u'12160'), 5.0)]"
      ]
     },
     "execution_count": 14,
     "metadata": {},
     "output_type": "execute_result"
    }
   ],
   "source": [
    "df_house_power_aggr.take(10)"
   ]
  },
  {
   "cell_type": "code",
   "execution_count": 15,
   "metadata": {
    "collapsed": true
   },
   "outputs": [],
   "source": [
    "df_house_clean = df_house_power_aggr.map(lambda x: {\n",
    "        \"houseId\": x[0][0],\n",
    "        \"date\": x[0][1],\n",
    "        \"zip\": x[0][2],\n",
    "        \"power\": x[1]\n",
    "    })"
   ]
  },
  {
   "cell_type": "code",
   "execution_count": 16,
   "metadata": {
    "collapsed": false
   },
   "outputs": [
    {
     "data": {
      "text/plain": [
       "pyspark.rdd.PipelinedRDD"
      ]
     },
     "execution_count": 16,
     "metadata": {},
     "output_type": "execute_result"
    }
   ],
   "source": [
    "type(df_house_clean)"
   ]
  },
  {
   "cell_type": "code",
   "execution_count": 17,
   "metadata": {
    "collapsed": false
   },
   "outputs": [
    {
     "data": {
      "text/plain": [
       "19118"
      ]
     },
     "execution_count": 17,
     "metadata": {},
     "output_type": "execute_result"
    }
   ],
   "source": [
    "df_house_clean.count()"
   ]
  },
  {
   "cell_type": "code",
   "execution_count": 20,
   "metadata": {
    "collapsed": true
   },
   "outputs": [],
   "source": [
    "def aggToCassandraPart(agg):\n",
    "    if agg:\n",
    "        cascluster = Cluster(['52.89.47.199', '52.89.59.188', '52.88.228.95', '52.35.74.206'])\n",
    "        casSession = cascluster.connect('playground')\n",
    "        for rec in agg:\n",
    "            casSession.execute('INSERT INTO power_aggr1 (houseId, date, zip, power) VALUES (%s, %s, %s, %s)', (str(rec['houseId']), rec['date'], rec['zip'], str(rec['power'])))\n",
    "        casSession.shutdown()\n",
    "        cascluster.shutdown()"
   ]
  },
  {
   "cell_type": "code",
   "execution_count": null,
   "metadata": {
    "collapsed": false
   },
   "outputs": [],
   "source": [
    "def saveCassandra(rec):\n",
    "#    cascluster = Cluster(['52.89.47.199', '52.89.59.188', '52.88.228.95', '52.35.74.206'])\n",
    "    cascluster = Cluster()\n",
    "    casSession = cascluster.connect('playground')\n",
    "    casSession.execute('INSERT INTO power_aggr1 (houseId, date, zip, power) VALUES (%s, %s, %s, %s)', (str(rec['houseId']), rec['date'], rec['zip'], str(rec['power'])))\n",
    "    casSession.shutdown()\n",
    "    cascluster.shutdown()"
   ]
  },
  {
   "cell_type": "code",
   "execution_count": null,
   "metadata": {
    "collapsed": false
   },
   "outputs": [],
   "source": [
    "for rec in df_house_clean.collect():\n",
    "    saveCassandra(rec)"
   ]
  },
  {
   "cell_type": "code",
   "execution_count": 21,
   "metadata": {
    "collapsed": false
   },
   "outputs": [],
   "source": [
    "df_house_clean.foreachPartition(aggToCassandraPart)"
   ]
  },
  {
   "cell_type": "code",
   "execution_count": null,
   "metadata": {
    "collapsed": false
   },
   "outputs": [],
   "source": [
    "import pyspark_cassandra"
   ]
  },
  {
   "cell_type": "code",
   "execution_count": null,
   "metadata": {
    "collapsed": false
   },
   "outputs": [],
   "source": [
    "df_house_clean.saveToCassandra(\"playground\", \"power_aggr1\")"
   ]
  },
  {
   "cell_type": "markdown",
   "metadata": {},
   "source": [
    "## Simple operation on the Cassandra database to make sure it works :-)"
   ]
  },
  {
   "cell_type": "code",
   "execution_count": null,
   "metadata": {
    "collapsed": false
   },
   "outputs": [],
   "source": [
    "session = cluster.connect('playground')\n",
    "\n",
    "result = session.execute(\"select * from email\")\n",
    "for x in result: print x"
   ]
  }
 ],
 "metadata": {
  "kernelspec": {
   "display_name": "Python 2",
   "language": "python",
   "name": "python2"
  },
  "language_info": {
   "codemirror_mode": {
    "name": "ipython",
    "version": 2
   },
   "file_extension": ".py",
   "mimetype": "text/x-python",
   "name": "python",
   "nbconvert_exporter": "python",
   "pygments_lexer": "ipython2",
   "version": "2.7.6"
  }
 },
 "nbformat": 4,
 "nbformat_minor": 0
}
