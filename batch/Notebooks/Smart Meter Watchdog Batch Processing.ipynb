{
 "cells": [
  {
   "cell_type": "markdown",
   "metadata": {},
   "source": [
    "# Batch processing with Spark and Cassandra"
   ]
  },
  {
   "cell_type": "markdown",
   "metadata": {},
   "source": [
    "### Project setup: Import Spark and Cassandra Libraries, connect to clusters etc"
   ]
  },
  {
   "cell_type": "code",
   "execution_count": 1,
   "metadata": {
    "collapsed": false
   },
   "outputs": [],
   "source": [
    "from pyspark import SparkContext\n",
    "from pyspark import SparkConf\n",
    "from pyspark import StorageLevel\n",
    "from pyspark.sql import SQLContext, Row\n",
    "from pyspark.sql.types import *"
   ]
  },
  {
   "cell_type": "markdown",
   "metadata": {},
   "source": [
    "Now connect to the cassandra and spark clusters"
   ]
  },
  {
   "cell_type": "code",
   "execution_count": 2,
   "metadata": {
    "collapsed": true
   },
   "outputs": [],
   "source": [
    "from cassandra.cluster import Cluster\n",
    "cluster = Cluster()\n",
    "\n",
    "conf = SparkConf().setAppName(\"Smart Meter Watchdog\")\n",
    "sc = SparkContext(conf=conf)\n",
    "sqlContext = SQLContext(sc)"
   ]
  },
  {
   "cell_type": "markdown",
   "metadata": {},
   "source": [
    "## Common Functions used for both high frequency and low frequency data"
   ]
  },
  {
   "cell_type": "code",
   "execution_count": 3,
   "metadata": {
    "collapsed": false
   },
   "outputs": [
    {
     "data": {
      "text/plain": [
       "'05/21/11'"
      ]
     },
     "execution_count": 3,
     "metadata": {},
     "output_type": "execute_result"
    }
   ],
   "source": [
    "import time\n",
    "\n",
    "def ts2date(curTime):\n",
    "    return time.strftime(\"%D\", time.localtime(int(curTime)))\n",
    "\n",
    "ts2date('1306006763') ## Should print \"05/21/11\""
   ]
  },
  {
   "cell_type": "code",
   "execution_count": 4,
   "metadata": {
    "collapsed": false
   },
   "outputs": [],
   "source": [
    "def expandRec(rec):\n",
    "    result = []\n",
    "    for row in rec.readings:\n",
    "        result.append((rec.houseId, ts2date(rec.timestamp), int(rec.timestamp), rec.zip, row.label, row.meterId, float(row.power)))\n",
    "    return result"
   ]
  },
  {
   "cell_type": "code",
   "execution_count": 5,
   "metadata": {
    "collapsed": true
   },
   "outputs": [],
   "source": [
    "def getEnergy(readings):\n",
    "    energy = 0\n",
    "    readingCnt = len(readings)\n",
    "    if readingCnt <= 1:\n",
    "        return ('NONE', 0)\n",
    "    for i in xrange(readingCnt-1):\n",
    "        energy += (readings[i+1][0] - readings[i][0]) * readings[i][2]\n",
    "    return (readings[0][1], energy)"
   ]
  },
  {
   "cell_type": "code",
   "execution_count": null,
   "metadata": {
    "collapsed": false
   },
   "outputs": [],
   "source": [
    "getEnergy(sorted(((1,4,3), (5,2,7), (3, 5, 9))))  # Expected to get (4, 24)"
   ]
  },
  {
   "cell_type": "code",
   "execution_count": null,
   "metadata": {
    "collapsed": false
   },
   "outputs": [],
   "source": [
    "test_rdd = sc.parallelize([((\"a\", 3), (1, 4, 3)), ((\"b\", 1), (1, 3, 5)), ((\"a\", 3), (5, 2, 7)), ((\"a\", 3), (3, 5, 9))])\n",
    "new_rdd = test_rdd.groupByKey().map(lambda rec: (rec[0], getEnergy(list(sorted(rec[1])))))\n",
    "for row in new_rdd.collect():\n",
    "    print row"
   ]
  },
  {
   "cell_type": "code",
   "execution_count": null,
   "metadata": {
    "collapsed": true
   },
   "outputs": [],
   "source": [
    "def writeTotalTableToCassandra(agg, tablename):\n",
    "    if agg:\n",
    "        cascluster = Cluster(['52.89.146.18', '52.89.197.150', '52.89.235.220', '52.89.249.32'])\n",
    "        casSession = cascluster.connect('playground')\n",
    "        casCommand = ('INSERT INTO %s (houseid, date, zip, label, power) VALUES ' % (tablename)) + '(%s, %s, %s, %s, %s)'\n",
    "        for rec in agg:\n",
    "            casSession.execute(casCommand, (str(rec[0][0]), rec[0][3], rec[0][2], rec[0][1], str(rec[1])))\n",
    "        casSession.shutdown()\n",
    "        cascluster.shutdown()"
   ]
  },
  {
   "cell_type": "code",
   "execution_count": null,
   "metadata": {
    "collapsed": true
   },
   "outputs": [],
   "source": [
    "def writePercentTableToCassandra(agg, tablename):\n",
    "    if agg:\n",
    "        cascluster = Cluster(['52.89.146.18', '52.89.197.150', '52.89.235.220', '52.89.249.32'])\n",
    "        casSession = cascluster.connect('playground')\n",
    "        casCommand = ('INSERT INTO %s (houseid, date, zip, label, percent) VALUES ' % (tablename)) + '(%s, %s, %s, %s, %s)'\n",
    "        for rec in agg:\n",
    "            casSession.execute(casCommand, (str(rec[0]), rec[3], rec[2], rec[1], str(rec[4])))\n",
    "        casSession.shutdown()\n",
    "        cascluster.shutdown()"
   ]
  },
  {
   "cell_type": "code",
   "execution_count": 6,
   "metadata": {
    "collapsed": true
   },
   "outputs": [],
   "source": [
    "def j2kwh(energy):\n",
    "    return energy * 1.0 / 1000 / 3600"
   ]
  },
  {
   "cell_type": "markdown",
   "metadata": {},
   "source": [
    "## Process high frequency meter readings"
   ]
  },
  {
   "cell_type": "markdown",
   "metadata": {},
   "source": [
    "First of all, read in the files from HDFS"
   ]
  },
  {
   "cell_type": "code",
   "execution_count": null,
   "metadata": {
    "collapsed": false
   },
   "outputs": [],
   "source": [
    "ec2_host = \"ec2-52-89-146-18.us-west-2.compute.amazonaws.com:9000/\"\n",
    "hf_hdfs_dir = \"/camus/topics/testing_hf/hourly/2016/01/31/14\"\n",
    "\n",
    "highFreqDf = sqlContext.read.json(\"hdfs://\" + ec2_host + hf_hdfs_dir)"
   ]
  },
  {
   "cell_type": "code",
   "execution_count": null,
   "metadata": {
    "collapsed": false
   },
   "outputs": [],
   "source": [
    "highFreqDfExp = sqlContext.createDataFrame(\n",
    "    highFreqDf.flatMap(lambda row: expandRec(row)), ['houseId', 'date', 'timestamp', 'zip', 'label', 'meterId', 'power']\n",
    ")"
   ]
  },
  {
   "cell_type": "code",
   "execution_count": null,
   "metadata": {
    "collapsed": true
   },
   "outputs": [],
   "source": [
    "highFreqMetersDf = highFreqDfExp.map(\n",
    "    lambda row: ((row.houseId, row.meterId, row.zip, row.date), (row.timestamp, row.label, row.power))\n",
    ").groupByKey()"
   ]
  },
  {
   "cell_type": "code",
   "execution_count": null,
   "metadata": {
    "collapsed": true
   },
   "outputs": [],
   "source": [
    "highFreqEnergy = highFreqMetersDf.map(lambda rec: (rec[0], getEnergy(list(sorted(rec[1])))))"
   ]
  },
  {
   "cell_type": "code",
   "execution_count": null,
   "metadata": {
    "collapsed": false
   },
   "outputs": [],
   "source": [
    "highFreqEnergyTot = highFreqEnergy.map(lambda rec: ((rec[0][0], rec[1][0], rec[0][2], rec[0][3]), rec[1][1])) \\\n",
    "                                  .reduceByKey(lambda x, y: x+y)"
   ]
  },
  {
   "cell_type": "code",
   "execution_count": null,
   "metadata": {
    "collapsed": true
   },
   "outputs": [],
   "source": [
    "highFreqEnergyTotNorm = highFreqEnergyTot.map(lambda rec: (rec[0], j2kwh(rec[1])))"
   ]
  },
  {
   "cell_type": "code",
   "execution_count": null,
   "metadata": {
    "collapsed": false
   },
   "outputs": [],
   "source": [
    "highFreqEnergyTotNorm.count()"
   ]
  },
  {
   "cell_type": "code",
   "execution_count": null,
   "metadata": {
    "collapsed": false
   },
   "outputs": [],
   "source": [
    "print highFreqEnergyTotNorm.take(1)"
   ]
  },
  {
   "cell_type": "markdown",
   "metadata": {},
   "source": [
    "## Process Low Frequency Meter Readings"
   ]
  },
  {
   "cell_type": "code",
   "execution_count": 7,
   "metadata": {
    "collapsed": false
   },
   "outputs": [],
   "source": [
    "lf_hdfs_dir = \"/camus/topics/testing_lf/hourly/2016/01/31/14\"\n",
    "ec2_host = \"ec2-52-89-146-18.us-west-2.compute.amazonaws.com:9000/\"\n",
    "\n",
    "lowFreqDf = sqlContext.read.json(\"hdfs://\" + ec2_host + lf_hdfs_dir)"
   ]
  },
  {
   "cell_type": "code",
   "execution_count": null,
   "metadata": {
    "collapsed": false
   },
   "outputs": [],
   "source": [
    "lowFreqDf.take(1)"
   ]
  },
  {
   "cell_type": "code",
   "execution_count": null,
   "metadata": {
    "collapsed": false
   },
   "outputs": [],
   "source": [
    "lowFreqDf.count()"
   ]
  },
  {
   "cell_type": "code",
   "execution_count": 8,
   "metadata": {
    "collapsed": false
   },
   "outputs": [],
   "source": [
    "lowFreqDfExp = sqlContext.createDataFrame(\n",
    "    lowFreqDf.flatMap(lambda row: expandRec(row)), ['houseId', 'date', 'timestamp', 'zip', 'label', 'meterId', 'power']\n",
    ")"
   ]
  },
  {
   "cell_type": "code",
   "execution_count": 9,
   "metadata": {
    "collapsed": true
   },
   "outputs": [],
   "source": [
    "lowFreqMetersDf = lowFreqDfExp.map (\n",
    "    lambda row: ((row.houseId, row.meterId, row.zip, row.date), [(row.timestamp, row.label, row.power)])\n",
    ").reduceByKey(lambda x, y: x + y) # groupByKey()"
   ]
  },
  {
   "cell_type": "code",
   "execution_count": null,
   "metadata": {
    "collapsed": false
   },
   "outputs": [],
   "source": [
    "lowFreqMetersDf.count()"
   ]
  },
  {
   "cell_type": "code",
   "execution_count": null,
   "metadata": {
    "collapsed": false
   },
   "outputs": [],
   "source": [
    "lowFreqEnergy = lowFreqMetersDf.map(lambda rec: (rec[0], getEnergy(list(sorted(rec[1])))))"
   ]
  },
  {
   "cell_type": "code",
   "execution_count": null,
   "metadata": {
    "collapsed": false
   },
   "outputs": [],
   "source": [
    "lowFreqEnergy.count()"
   ]
  },
  {
   "cell_type": "code",
   "execution_count": null,
   "metadata": {
    "collapsed": false
   },
   "outputs": [],
   "source": [
    "lowFreqEnergyTot = lowFreqEnergy.map(lambda rec: ((rec[0][0], rec[1][0], rec[0][2], rec[0][3]), rec[1][1])) \\\n",
    "                                  .reduceByKey(lambda x, y: x+y)"
   ]
  },
  {
   "cell_type": "code",
   "execution_count": null,
   "metadata": {
    "collapsed": false
   },
   "outputs": [],
   "source": [
    "lowFreqEnergyTot.count()"
   ]
  },
  {
   "cell_type": "code",
   "execution_count": null,
   "metadata": {
    "collapsed": true
   },
   "outputs": [],
   "source": [
    "lowFreqEnergyTotNorm = lowFreqEnergyTot.map(lambda rec: (rec[0], j2kwh(rec[1])))"
   ]
  },
  {
   "cell_type": "code",
   "execution_count": null,
   "metadata": {
    "collapsed": false
   },
   "outputs": [],
   "source": [
    "lowFreqEnergyTotNorm.count()"
   ]
  },
  {
   "cell_type": "code",
   "execution_count": null,
   "metadata": {
    "collapsed": false
   },
   "outputs": [],
   "source": [
    "print lowFreqEnergyTotNorm.take(1)"
   ]
  },
  {
   "cell_type": "markdown",
   "metadata": {},
   "source": [
    "## Post-process the highFreq and lowFreq results, and write to database"
   ]
  },
  {
   "cell_type": "code",
   "execution_count": null,
   "metadata": {
    "collapsed": false
   },
   "outputs": [],
   "source": [
    "lfTotTable = 'batch_power_appliance'\n",
    "lowFreqEnergyTotNorm.foreachPartition(lambda par: writeTotalTableToCassandra(par, lfTotTable))"
   ]
  },
  {
   "cell_type": "code",
   "execution_count": null,
   "metadata": {
    "collapsed": false
   },
   "outputs": [],
   "source": [
    "hfTotTable = 'batch_power_main'\n",
    "highFreqEnergyTotNorm.foreachPartition(lambda par: writeTotalTableToCassandra(par, hfTotTable))"
   ]
  },
  {
   "cell_type": "code",
   "execution_count": null,
   "metadata": {
    "collapsed": true
   },
   "outputs": [],
   "source": [
    "def reordRec(rec):\n",
    "    return ((rec[0][0], rec[0][2], rec[0][3]), (rec[0][1], rec[1]))"
   ]
  },
  {
   "cell_type": "code",
   "execution_count": null,
   "metadata": {
    "collapsed": true
   },
   "outputs": [],
   "source": [
    "def getPercentage(rec):\n",
    "    if rec[1][1][1] < 1e-5:\n",
    "        percentage = 0.0\n",
    "    else:\n",
    "        percentage = rec[1][0][1] * 1.0 / rec[1][1][1]\n",
    "    return (rec[0][0], rec[1][0][0], rec[0][1], rec[0][2], percentage * 100)"
   ]
  },
  {
   "cell_type": "code",
   "execution_count": null,
   "metadata": {
    "collapsed": false
   },
   "outputs": [],
   "source": [
    "lowFreqEnergyTotNorm.take(1)"
   ]
  },
  {
   "cell_type": "code",
   "execution_count": null,
   "metadata": {
    "collapsed": false
   },
   "outputs": [],
   "source": [
    "highFreqEnergyTotNorm.take(1)"
   ]
  },
  {
   "cell_type": "code",
   "execution_count": null,
   "metadata": {
    "collapsed": false
   },
   "outputs": [],
   "source": [
    "lowFreqPercent = (lowFreqEnergyTotNorm.map(lambda rec: reordRec(rec)) \\\n",
    "                 .leftOuterJoin(highFreqEnergyTotNorm.map(lambda rec: reordRec(rec)))) \\\n",
    "                 .map(lambda rec: getPercentage(rec))"
   ]
  },
  {
   "cell_type": "code",
   "execution_count": null,
   "metadata": {
    "collapsed": false
   },
   "outputs": [],
   "source": [
    "lowFreqPercent.take(1)"
   ]
  },
  {
   "cell_type": "code",
   "execution_count": null,
   "metadata": {
    "collapsed": false
   },
   "outputs": [],
   "source": [
    "lowFreqPercent.count()"
   ]
  },
  {
   "cell_type": "code",
   "execution_count": null,
   "metadata": {
    "collapsed": false
   },
   "outputs": [],
   "source": [
    "percentTable = 'batch_power_percent'\n",
    "lowFreqPercent.foreachPartition(lambda par: writePercentTableToCassandra(par, percentTable))"
   ]
  }
 ],
 "metadata": {
  "kernelspec": {
   "display_name": "Python 2",
   "language": "python",
   "name": "python2"
  },
  "language_info": {
   "codemirror_mode": {
    "name": "ipython",
    "version": 2
   },
   "file_extension": ".py",
   "mimetype": "text/x-python",
   "name": "python",
   "nbconvert_exporter": "python",
   "pygments_lexer": "ipython2",
   "version": "2.7.6"
  }
 },
 "nbformat": 4,
 "nbformat_minor": 0
}
